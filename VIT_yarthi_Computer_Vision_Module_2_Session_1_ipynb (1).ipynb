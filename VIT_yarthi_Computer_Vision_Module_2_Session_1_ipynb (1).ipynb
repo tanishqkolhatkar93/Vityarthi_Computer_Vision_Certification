{
  "nbformat": 4,
  "nbformat_minor": 0,
  "metadata": {
    "colab": {
      "provenance": []
    },
    "kernelspec": {
      "name": "python3",
      "display_name": "Python 3"
    },
    "language_info": {
      "name": "python"
    }
  },
  "cells": [
    {
      "cell_type": "markdown",
      "source": [
        "\n",
        "Reg No. - 21MIM10025\n",
        "> Indented block\n",
        "\n"
      ],
      "metadata": {
        "id": "G2vIQNpDs8VO"
      }
    },
    {
      "cell_type": "code",
      "execution_count": 16,
      "metadata": {
        "id": "Z2mk5heleIxC"
      },
      "outputs": [],
      "source": [
        "import random\n",
        "import cv2\n",
        "from matplotlib import pyplot as plt\n"
      ]
    },
    {
      "cell_type": "code",
      "source": [
        " image=cv2.imread('/content/Apple.jpg')"
      ],
      "metadata": {
        "id": "CxL7DtDCp8fy"
      },
      "execution_count": 17,
      "outputs": []
    },
    {
      "cell_type": "code",
      "source": [
        "import numpy as np\n",
        "\n",
        "def calculate_cdf(image):\n",
        "  \"\"\"Calculates the cumulative distribution function (CDF) of a gray level image.\n",
        "\n",
        "  Args:\n",
        "    image: A gray level image.\n",
        "\n",
        "  Returns:\n",
        "    A NumPy array of the same shape as the input image, containing the CDF values.\n",
        "  \"\"\"\n",
        "\n",
        "  # Convert the image to a NumPy array.\n",
        "  image = np.array(image)\n",
        "\n",
        "  # Calculate the number of pixels in the image.\n",
        "  num_pixels = image.size\n",
        "\n",
        "  # Initialize the CDF array.\n",
        "  cdf = np.zeros(num_pixels)\n",
        "\n",
        "  # Iterate over the pixels in the image.\n",
        "  for i in range(num_pixels):\n",
        "    # Calculate the cumulative probability of the current pixel.\n",
        "    cdf[i] = np.sum(image <= image[i]) / num_pixels\n",
        "\n",
        "  # Return the CDF array.\n",
        "  return cdf"
      ],
      "metadata": {
        "id": "UBjpEjqLgtrj"
      },
      "execution_count": 18,
      "outputs": []
    },
    {
      "cell_type": "code",
      "source": [],
      "metadata": {
        "id": "iwrolNHMqTAh"
      },
      "execution_count": 18,
      "outputs": []
    },
    {
      "cell_type": "code",
      "source": [
        "image = np.array([[2, 2,2,2,3], [2,3,3,2,3],[2,3,3.2.4],[2,3,3,2,4][2,3,3,2,4],[2,3,3,2,4]])\n",
        "\n",
        "cdf = calculate_cdf(image)\n",
        "\n",
        "print(cdf)"
      ],
      "metadata": {
        "id": "PNK3KpMjqb2H"
      },
      "execution_count": 25,
      "outputs": []
    },
    {
      "cell_type": "markdown",
      "source": [],
      "metadata": {
        "id": "KpKm75Rxs7Cs"
      }
    },
    {
      "cell_type": "code",
      "source": [],
      "metadata": {
        "id": "RgnKbQy5q7dw"
      },
      "execution_count": null,
      "outputs": []
    }
  ]
}